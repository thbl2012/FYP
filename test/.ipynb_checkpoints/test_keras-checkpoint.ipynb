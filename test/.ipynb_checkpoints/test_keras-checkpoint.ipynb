{
 "cells": [
  {
   "cell_type": "code",
   "execution_count": 5,
   "metadata": {},
   "outputs": [
    {
     "name": "stdout",
     "output_type": "stream",
     "text": [
      "data: (1000, 100)\n",
      "[[ 0.5488135   0.71518937  0.60276338  0.54488318  0.4236548 ]\n",
      " [ 0.67781654  0.27000797  0.73519402  0.96218855  0.24875314]\n",
      " [ 0.31179588  0.69634349  0.37775184  0.17960368  0.02467873]\n",
      " [ 0.9065555   0.77404733  0.33314515  0.08110139  0.40724117]\n",
      " [ 0.4012595   0.92929142  0.09961493  0.94530153  0.86948853]]\n",
      "labels: (1000,)\n",
      "[ 0.47279384  0.52808176  0.50963198  0.47275746  0.49972317]\n"
     ]
    }
   ],
   "source": [
    "import numpy as np\n",
    "data = np.random.RandomState(0).random_sample((1000, 100))\n",
    "labels = np.mean(data, axis=1) # np.random.RandomState(0).randint(2, size=(1000, 1))\n",
    "print('data: {}'.format(data.shape))\n",
    "print(data[:5, :5])\n",
    "print('labels: {}'.format(labels.shape))\n",
    "print(labels[:5])"
   ]
  },
  {
   "cell_type": "code",
   "execution_count": 6,
   "metadata": {
    "scrolled": true
   },
   "outputs": [],
   "source": [
    "from keras.models import Sequential\n",
    "from keras.layers import Dense, Activation"
   ]
  },
  {
   "cell_type": "code",
   "execution_count": 10,
   "metadata": {
    "collapsed": true
   },
   "outputs": [],
   "source": [
    "model = Sequential([\n",
    "    Dense(32, input_dim=100),\n",
    "    Activation('relu'),\n",
    "    Dense(1),\n",
    "    Activation('relu'),\n",
    "])\n",
    "model.compile(optimizer='rmsprop', loss='mean_squared_error',\n",
    "              metrics=['mae'])"
   ]
  },
  {
   "cell_type": "code",
   "execution_count": 11,
   "metadata": {},
   "outputs": [
    {
     "name": "stdout",
     "output_type": "stream",
     "text": [
      "Epoch 1/100\n",
      "1000/1000 [==============================] - 0s 213us/step - loss: 0.0748 - mean_absolute_error: 0.2179\n",
      "Epoch 2/100\n",
      "1000/1000 [==============================] - 0s 35us/step - loss: 0.0307 - mean_absolute_error: 0.1375\n",
      "Epoch 3/100\n",
      "1000/1000 [==============================] - 0s 34us/step - loss: 0.0154 - mean_absolute_error: 0.0969\n",
      "Epoch 4/100\n",
      "1000/1000 [==============================] - 0s 36us/step - loss: 0.0096 - mean_absolute_error: 0.0777\n",
      "Epoch 5/100\n",
      "1000/1000 [==============================] - 0s 35us/step - loss: 0.0065 - mean_absolute_error: 0.0646\n",
      "Epoch 6/100\n",
      "1000/1000 [==============================] - 0s 35us/step - loss: 0.0047 - mean_absolute_error: 0.0549\n",
      "Epoch 7/100\n",
      "1000/1000 [==============================] - 0s 35us/step - loss: 0.0035 - mean_absolute_error: 0.0471\n",
      "Epoch 8/100\n",
      "1000/1000 [==============================] - 0s 35us/step - loss: 0.0026 - mean_absolute_error: 0.0415\n",
      "Epoch 9/100\n",
      "1000/1000 [==============================] - 0s 35us/step - loss: 0.0021 - mean_absolute_error: 0.0359\n",
      "Epoch 10/100\n",
      "1000/1000 [==============================] - 0s 34us/step - loss: 0.0017 - mean_absolute_error: 0.0325\n",
      "Epoch 11/100\n",
      "1000/1000 [==============================] - 0s 32us/step - loss: 0.0015 - mean_absolute_error: 0.0311\n",
      "Epoch 12/100\n",
      "1000/1000 [==============================] - 0s 32us/step - loss: 0.0012 - mean_absolute_error: 0.0280\n",
      "Epoch 13/100\n",
      "1000/1000 [==============================] - 0s 30us/step - loss: 9.7850e-04 - mean_absolute_error: 0.0250\n",
      "Epoch 14/100\n",
      "1000/1000 [==============================] - 0s 33us/step - loss: 9.2971e-04 - mean_absolute_error: 0.0248\n",
      "Epoch 15/100\n",
      "1000/1000 [==============================] - 0s 30us/step - loss: 8.3323e-04 - mean_absolute_error: 0.0232\n",
      "Epoch 16/100\n",
      "1000/1000 [==============================] - 0s 33us/step - loss: 6.8199e-04 - mean_absolute_error: 0.0210\n",
      "Epoch 17/100\n",
      "1000/1000 [==============================] - 0s 31us/step - loss: 6.8792e-04 - mean_absolute_error: 0.0211\n",
      "Epoch 18/100\n",
      "1000/1000 [==============================] - 0s 31us/step - loss: 5.9888e-04 - mean_absolute_error: 0.0199\n",
      "Epoch 19/100\n",
      "1000/1000 [==============================] - 0s 34us/step - loss: 5.3839e-04 - mean_absolute_error: 0.0185\n",
      "Epoch 20/100\n",
      "1000/1000 [==============================] - 0s 31us/step - loss: 4.9748e-04 - mean_absolute_error: 0.0181\n",
      "Epoch 21/100\n",
      "1000/1000 [==============================] - 0s 29us/step - loss: 4.4416e-04 - mean_absolute_error: 0.0171\n",
      "Epoch 22/100\n",
      "1000/1000 [==============================] - 0s 29us/step - loss: 4.2859e-04 - mean_absolute_error: 0.0168\n",
      "Epoch 23/100\n",
      "1000/1000 [==============================] - 0s 31us/step - loss: 4.3844e-04 - mean_absolute_error: 0.0174\n",
      "Epoch 24/100\n",
      "1000/1000 [==============================] - 0s 33us/step - loss: 3.6908e-04 - mean_absolute_error: 0.0152\n",
      "Epoch 25/100\n",
      "1000/1000 [==============================] - 0s 30us/step - loss: 3.6514e-04 - mean_absolute_error: 0.0159\n",
      "Epoch 26/100\n",
      "1000/1000 [==============================] - 0s 30us/step - loss: 3.4004e-04 - mean_absolute_error: 0.0152\n",
      "Epoch 27/100\n",
      "1000/1000 [==============================] - 0s 31us/step - loss: 3.2751e-04 - mean_absolute_error: 0.0149\n",
      "Epoch 28/100\n",
      "1000/1000 [==============================] - 0s 29us/step - loss: 2.6731e-04 - mean_absolute_error: 0.0129\n",
      "Epoch 29/100\n",
      "1000/1000 [==============================] - 0s 31us/step - loss: 3.1995e-04 - mean_absolute_error: 0.0149\n",
      "Epoch 30/100\n",
      "1000/1000 [==============================] - 0s 31us/step - loss: 2.7618e-04 - mean_absolute_error: 0.0132\n",
      "Epoch 31/100\n",
      "1000/1000 [==============================] - 0s 32us/step - loss: 3.0985e-04 - mean_absolute_error: 0.0152\n",
      "Epoch 32/100\n",
      "1000/1000 [==============================] - 0s 31us/step - loss: 2.4558e-04 - mean_absolute_error: 0.0131\n",
      "Epoch 33/100\n",
      "1000/1000 [==============================] - 0s 31us/step - loss: 2.4974e-04 - mean_absolute_error: 0.0131\n",
      "Epoch 34/100\n",
      "1000/1000 [==============================] - 0s 28us/step - loss: 2.2532e-04 - mean_absolute_error: 0.0122\n",
      "Epoch 35/100\n",
      "1000/1000 [==============================] - 0s 31us/step - loss: 2.7180e-04 - mean_absolute_error: 0.0132\n",
      "Epoch 36/100\n",
      "1000/1000 [==============================] - 0s 37us/step - loss: 2.0355e-04 - mean_absolute_error: 0.0113\n",
      "Epoch 37/100\n",
      "1000/1000 [==============================] - 0s 32us/step - loss: 2.1714e-04 - mean_absolute_error: 0.0120\n",
      "Epoch 38/100\n",
      "1000/1000 [==============================] - 0s 29us/step - loss: 2.1794e-04 - mean_absolute_error: 0.0118\n",
      "Epoch 39/100\n",
      "1000/1000 [==============================] - 0s 35us/step - loss: 2.4354e-04 - mean_absolute_error: 0.0125\n",
      "Epoch 40/100\n",
      "1000/1000 [==============================] - 0s 31us/step - loss: 2.1276e-04 - mean_absolute_error: 0.0127\n",
      "Epoch 41/100\n",
      "1000/1000 [==============================] - 0s 29us/step - loss: 2.0063e-04 - mean_absolute_error: 0.0122\n",
      "Epoch 42/100\n",
      "1000/1000 [==============================] - 0s 35us/step - loss: 2.0983e-04 - mean_absolute_error: 0.0127\n",
      "Epoch 43/100\n",
      "1000/1000 [==============================] - 0s 29us/step - loss: 1.9446e-04 - mean_absolute_error: 0.0117\n",
      "Epoch 44/100\n",
      "1000/1000 [==============================] - 0s 30us/step - loss: 1.7872e-04 - mean_absolute_error: 0.0118\n",
      "Epoch 45/100\n",
      "1000/1000 [==============================] - 0s 31us/step - loss: 1.9701e-04 - mean_absolute_error: 0.0123\n",
      "Epoch 46/100\n",
      "1000/1000 [==============================] - 0s 32us/step - loss: 1.9056e-04 - mean_absolute_error: 0.0124\n",
      "Epoch 47/100\n",
      "1000/1000 [==============================] - 0s 29us/step - loss: 1.8491e-04 - mean_absolute_error: 0.0116\n",
      "Epoch 48/100\n",
      "1000/1000 [==============================] - 0s 30us/step - loss: 1.8870e-04 - mean_absolute_error: 0.0122\n",
      "Epoch 49/100\n",
      "1000/1000 [==============================] - 0s 32us/step - loss: 1.8510e-04 - mean_absolute_error: 0.0123\n",
      "Epoch 50/100\n",
      "1000/1000 [==============================] - 0s 29us/step - loss: 1.6799e-04 - mean_absolute_error: 0.0106\n",
      "Epoch 51/100\n",
      "1000/1000 [==============================] - 0s 33us/step - loss: 1.7113e-04 - mean_absolute_error: 0.0108\n",
      "Epoch 52/100\n",
      "1000/1000 [==============================] - 0s 30us/step - loss: 1.7810e-04 - mean_absolute_error: 0.0123\n",
      "Epoch 53/100\n",
      "1000/1000 [==============================] - 0s 31us/step - loss: 1.7644e-04 - mean_absolute_error: 0.0120\n",
      "Epoch 54/100\n",
      "1000/1000 [==============================] - 0s 30us/step - loss: 1.5925e-04 - mean_absolute_error: 0.0114\n",
      "Epoch 55/100\n",
      "1000/1000 [==============================] - 0s 31us/step - loss: 1.5225e-04 - mean_absolute_error: 0.0099\n",
      "Epoch 56/100\n",
      "1000/1000 [==============================] - 0s 36us/step - loss: 1.8396e-04 - mean_absolute_error: 0.0122\n",
      "Epoch 57/100\n",
      "1000/1000 [==============================] - 0s 36us/step - loss: 1.4224e-04 - mean_absolute_error: 0.0105\n",
      "Epoch 58/100\n",
      "1000/1000 [==============================] - 0s 34us/step - loss: 1.7705e-04 - mean_absolute_error: 0.0124\n",
      "Epoch 59/100\n",
      "1000/1000 [==============================] - 0s 31us/step - loss: 1.5101e-04 - mean_absolute_error: 0.0110\n",
      "Epoch 60/100\n",
      "1000/1000 [==============================] - 0s 31us/step - loss: 1.5915e-04 - mean_absolute_error: 0.0113\n",
      "Epoch 61/100\n",
      "1000/1000 [==============================] - 0s 30us/step - loss: 1.5121e-04 - mean_absolute_error: 0.0106\n",
      "Epoch 62/100\n",
      "1000/1000 [==============================] - 0s 27us/step - loss: 1.4133e-04 - mean_absolute_error: 0.0104\n",
      "Epoch 63/100\n",
      "1000/1000 [==============================] - 0s 26us/step - loss: 1.5730e-04 - mean_absolute_error: 0.0114\n",
      "Epoch 64/100\n",
      "1000/1000 [==============================] - 0s 30us/step - loss: 1.6194e-04 - mean_absolute_error: 0.0113\n",
      "Epoch 65/100\n",
      "1000/1000 [==============================] - 0s 27us/step - loss: 1.4438e-04 - mean_absolute_error: 0.0112\n",
      "Epoch 66/100\n",
      "1000/1000 [==============================] - 0s 26us/step - loss: 1.4846e-04 - mean_absolute_error: 0.0111\n",
      "Epoch 67/100\n",
      "1000/1000 [==============================] - 0s 34us/step - loss: 1.5316e-04 - mean_absolute_error: 0.0115\n",
      "Epoch 68/100\n",
      "1000/1000 [==============================] - 0s 32us/step - loss: 1.3224e-04 - mean_absolute_error: 0.0101\n",
      "Epoch 69/100\n"
     ]
    },
    {
     "name": "stdout",
     "output_type": "stream",
     "text": [
      "1000/1000 [==============================] - 0s 29us/step - loss: 1.4404e-04 - mean_absolute_error: 0.0105\n",
      "Epoch 70/100\n",
      "1000/1000 [==============================] - 0s 35us/step - loss: 1.3630e-04 - mean_absolute_error: 0.0105\n",
      "Epoch 71/100\n",
      "1000/1000 [==============================] - 0s 35us/step - loss: 1.3601e-04 - mean_absolute_error: 0.0105\n",
      "Epoch 72/100\n",
      "1000/1000 [==============================] - 0s 27us/step - loss: 1.2957e-04 - mean_absolute_error: 0.0095\n",
      "Epoch 73/100\n",
      "1000/1000 [==============================] - 0s 29us/step - loss: 1.5081e-04 - mean_absolute_error: 0.0111\n",
      "Epoch 74/100\n",
      "1000/1000 [==============================] - 0s 30us/step - loss: 1.3108e-04 - mean_absolute_error: 0.0097\n",
      "Epoch 75/100\n",
      "1000/1000 [==============================] - 0s 29us/step - loss: 1.2733e-04 - mean_absolute_error: 0.0088\n",
      "Epoch 76/100\n",
      "1000/1000 [==============================] - 0s 26us/step - loss: 1.2347e-04 - mean_absolute_error: 0.0098\n",
      "Epoch 77/100\n",
      "1000/1000 [==============================] - 0s 29us/step - loss: 1.2887e-04 - mean_absolute_error: 0.0106\n",
      "Epoch 78/100\n",
      "1000/1000 [==============================] - 0s 26us/step - loss: 1.3113e-04 - mean_absolute_error: 0.0107\n",
      "Epoch 79/100\n",
      "1000/1000 [==============================] - 0s 29us/step - loss: 1.2421e-04 - mean_absolute_error: 0.0099\n",
      "Epoch 80/100\n",
      "1000/1000 [==============================] - 0s 31us/step - loss: 1.4705e-04 - mean_absolute_error: 0.0116\n",
      "Epoch 81/100\n",
      "1000/1000 [==============================] - 0s 31us/step - loss: 1.1912e-04 - mean_absolute_error: 0.0101\n",
      "Epoch 82/100\n",
      "1000/1000 [==============================] - 0s 30us/step - loss: 1.3247e-04 - mean_absolute_error: 0.0108\n",
      "Epoch 83/100\n",
      "1000/1000 [==============================] - 0s 30us/step - loss: 1.1622e-04 - mean_absolute_error: 0.0101\n",
      "Epoch 84/100\n",
      "1000/1000 [==============================] - 0s 31us/step - loss: 1.3599e-04 - mean_absolute_error: 0.0110\n",
      "Epoch 85/100\n",
      "1000/1000 [==============================] - 0s 38us/step - loss: 1.1393e-04 - mean_absolute_error: 0.0098\n",
      "Epoch 86/100\n",
      "1000/1000 [==============================] - 0s 28us/step - loss: 1.2984e-04 - mean_absolute_error: 0.0105\n",
      "Epoch 87/100\n",
      "1000/1000 [==============================] - 0s 30us/step - loss: 1.1583e-04 - mean_absolute_error: 0.0098\n",
      "Epoch 88/100\n",
      "1000/1000 [==============================] - 0s 31us/step - loss: 1.2108e-04 - mean_absolute_error: 0.0105\n",
      "Epoch 89/100\n",
      "1000/1000 [==============================] - 0s 29us/step - loss: 1.2296e-04 - mean_absolute_error: 0.0104\n",
      "Epoch 90/100\n",
      "1000/1000 [==============================] - 0s 30us/step - loss: 1.2114e-04 - mean_absolute_error: 0.0105\n",
      "Epoch 91/100\n",
      "1000/1000 [==============================] - 0s 34us/step - loss: 1.1729e-04 - mean_absolute_error: 0.0101\n",
      "Epoch 92/100\n",
      "1000/1000 [==============================] - 0s 30us/step - loss: 1.1046e-04 - mean_absolute_error: 0.0100\n",
      "Epoch 93/100\n",
      "1000/1000 [==============================] - 0s 34us/step - loss: 1.0919e-04 - mean_absolute_error: 0.0097\n",
      "Epoch 94/100\n",
      "1000/1000 [==============================] - 0s 32us/step - loss: 1.1894e-04 - mean_absolute_error: 0.0102\n",
      "Epoch 95/100\n",
      "1000/1000 [==============================] - 0s 29us/step - loss: 1.1427e-04 - mean_absolute_error: 0.0102\n",
      "Epoch 96/100\n",
      "1000/1000 [==============================] - 0s 33us/step - loss: 1.1957e-04 - mean_absolute_error: 0.0105\n",
      "Epoch 97/100\n",
      "1000/1000 [==============================] - 0s 34us/step - loss: 1.1098e-04 - mean_absolute_error: 0.0099\n",
      "Epoch 98/100\n",
      "1000/1000 [==============================] - 0s 32us/step - loss: 1.2117e-04 - mean_absolute_error: 0.0103\n",
      "Epoch 99/100\n",
      "1000/1000 [==============================] - 0s 34us/step - loss: 1.0339e-04 - mean_absolute_error: 0.0093\n",
      "Epoch 100/100\n",
      "1000/1000 [==============================] - 0s 30us/step - loss: 1.1090e-04 - mean_absolute_error: 0.0099\n"
     ]
    }
   ],
   "source": [
    "history = model.fit(data, labels, epochs=100, batch_size=32)"
   ]
  },
  {
   "cell_type": "code",
   "execution_count": 14,
   "metadata": {
    "scrolled": true
   },
   "outputs": [
    {
     "name": "stdout",
     "output_type": "stream",
     "text": [
      "dict_keys(['loss', 'mean_absolute_error'])\n"
     ]
    }
   ],
   "source": [
    "print(history.history.keys())\n",
    "loss = history.history['loss']\n",
    "acc = history.history['mean_absolute_error']"
   ]
  },
  {
   "cell_type": "code",
   "execution_count": 16,
   "metadata": {},
   "outputs": [
    {
     "data": {
      "image/png": "[encoded data removed]",
      "text/plain": [
       "<matplotlib.figure.Figure at 0x20aa77a10f0>"
      ]
     },
     "metadata": {},
     "output_type": "display_data"
    }
   ],
   "source": [
    "from matplotlib import pyplot as plt\n",
    "plt.plot(loss)\n",
    "plt.show()"
   ]
  },
  {
   "cell_type": "code",
   "execution_count": 26,
   "metadata": {},
   "outputs": [
    {
     "name": "stdout",
     "output_type": "stream",
     "text": [
      "(1000,)\n",
      "(1000,)\n"
     ]
    },
    {
     "data": {
      "image/png": "[encoded data removed]",
      "text/plain": [
       "<matplotlib.figure.Figure at 0x20aacab9c88>"
      ]
     },
     "metadata": {},
     "output_type": "display_data"
    }
   ],
   "source": [
    "pred = model.predict(data).reshape(-1)\n",
    "print(labels.shape)\n",
    "print(pred.shape)\n",
    "plt.close()\n",
    "plt.plot(labels, label='label')\n",
    "plt.plot(pred, label='pred')\n",
    "plt.xlabel('input')\n",
    "plt.show()"
   ]
  },
  {
   "cell_type": "code",
   "execution_count": null,
   "metadata": {
    "collapsed": true
   },
   "outputs": [],
   "source": []
  }
 ],
 "metadata": {
  "kernelspec": {
   "display_name": "Python 3",
   "language": "python",
   "name": "python3"
  },
  "language_info": {
   "codemirror_mode": {
    "name": "ipython",
    "version": 3
   },
   "file_extension": ".py",
   "mimetype": "text/x-python",
   "name": "python",
   "nbconvert_exporter": "python",
   "pygments_lexer": "ipython3",
   "version": "3.6.2"
  }
 },
 "nbformat": 4,
 "nbformat_minor": 1
}
