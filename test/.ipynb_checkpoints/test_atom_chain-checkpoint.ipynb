{
 "cells": [
  {
   "cell_type": "code",
   "execution_count": 2,
   "metadata": {},
   "outputs": [
    {
     "name": "stdout",
     "output_type": "stream",
     "text": [
      "D:\\Coding Projects\\Python\\FYP\\test\n"
     ]
    }
   ],
   "source": [
    "import os\n",
    "print(os.getcwd())"
   ]
  },
  {
   "cell_type": "code",
   "execution_count": null,
   "metadata": {
    "collapsed": true
   },
   "outputs": [],
   "source": [
    "from src.simulate import simulate_equil\n",
    "\n",
    "sim_params = {\n",
    "        'length': 30,\n",
    "        'chain_type': 'wild_type',\n",
    "        'spring_len': 1.,\n",
    "        'spring_const': 10.,\n",
    "        'atom_radius': 1.,\n",
    "        'epsilon': 1.,\n",
    "        'boltzmann_const': 1.,\n",
    "        'temperature': 1.,\n",
    "        'max_dist': 3.,\n",
    "        'start_dist': 10.,\n",
    "        'trial_no': 10000000,\n",
    "        'enable_plot': False,\n",
    "        # 'plot_period': 100,\n",
    "        # 'max_plot_buffer': 10000,\n",
    "        # 'verbose': True,\n",
    "        # 'colors': None,\n",
    "        # 'fig_out': None,\n",
    "        # 'print_period': 10000,\n",
    "        # 'chain_out': None\n",
    "    }\n",
    "\n",
    "chain = simulate_equil(**sim_params)"
   ]
  },
  {
   "cell_type": "code",
   "execution_count": null,
   "metadata": {
    "collapsed": true
   },
   "outputs": [],
   "source": [
    "from src.util import pairwise_dist\n",
    "\n",
    "pd_stored = chain.dist_matrix\n",
    "pd_computed = pairwise_dist(chain.atoms)\n",
    "\n",
    "print(\"charges: \")\n",
    "print(chain.charges)\n",
    "\n",
    "print(\"atoms: \")\n",
    "print(chain.atoms)\n",
    "\n",
    "print(\"pd_stored: \")\n",
    "print(pd_stored)\n",
    "\n",
    "print(\"pd_computed: \")\n",
    "print(pd_computed)\n",
    "\n",
    "print(\"diff: \")\n",
    "print(pd_computed - pd_stored)"
   ]
  }
 ],
 "metadata": {
  "kernelspec": {
   "display_name": "Python 3",
   "language": "python",
   "name": "python3"
  },
  "language_info": {
   "codemirror_mode": {
    "name": "ipython",
    "version": 3
   },
   "file_extension": ".py",
   "mimetype": "text/x-python",
   "name": "python",
   "nbconvert_exporter": "python",
   "pygments_lexer": "ipython3",
   "version": "3.6.2"
  }
 },
 "nbformat": 4,
 "nbformat_minor": 1
}
